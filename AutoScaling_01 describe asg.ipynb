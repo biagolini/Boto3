{
 "cells": [
  {
   "cell_type": "markdown",
   "id": "4cfe9c65",
   "metadata": {},
   "source": [
    "Description: Describe Auto Scaling groups in the account and Region."
   ]
  },
  {
   "cell_type": "code",
   "execution_count": null,
   "id": "06ec26fd",
   "metadata": {},
   "outputs": [],
   "source": [
    "# Import Boto3 library \n",
    "import boto3"
   ]
  },
  {
   "cell_type": "code",
   "execution_count": null,
   "id": "0b963433",
   "metadata": {},
   "outputs": [],
   "source": [
    "# Get info\n",
    "client  = boto3.client('autoscaling')\n",
    "response = client.describe_auto_scaling_groups()"
   ]
  },
  {
   "cell_type": "code",
   "execution_count": null,
   "id": "2c989a7c",
   "metadata": {},
   "outputs": [],
   "source": [
    "# See full data\n",
    "print(response['AutoScalingGroups'])"
   ]
  },
  {
   "cell_type": "code",
   "execution_count": null,
   "id": "6862fbd5",
   "metadata": {
    "scrolled": true
   },
   "outputs": [],
   "source": [
    "# Print ASG names\n",
    "for x in response['AutoScalingGroups']:\n",
    "     print(x['AutoScalingGroupName'])"
   ]
  },
  {
   "cell_type": "code",
   "execution_count": null,
   "id": "4808750b",
   "metadata": {},
   "outputs": [],
   "source": [
    "# Print more information\n",
    "for x in response['AutoScalingGroups']:\n",
    "    print(\"---------------------------------------------------------------------\",\n",
    "          \"\\nAutoScalingGroupName:\\t\", x['AutoScalingGroupName'], \n",
    "          \"\\nMinSize:\\t\\t\", x['MinSize'],\n",
    "          \"\\nMaxSize:\\t\\t\" ,x['MaxSize'],\n",
    "          \"\\nDesiredCapacity:\\t\" ,x['DesiredCapacity'],\n",
    "          \"\\nAvailabilityZones:\\t\" ,x['AvailabilityZones'],\n",
    "          \"\\nLoadBalancerNames:\\t\" ,x['LoadBalancerNames'],\n",
    "          \"\\nInstances:\\t\\t\" ,x['Instances'],         \n",
    "         )\n",
    "print(\"---------------------------------------------------------------------\")"
   ]
  },
  {
   "cell_type": "markdown",
   "id": "bd2394f3",
   "metadata": {},
   "source": [
    "Reference:\n",
    "Amazon (2022) AutoScaling. Retrieved from:https://boto3.amazonaws.com/v1/documentation/api/latest/reference/services/autoscaling.html. (Accessed: 2022-12-21)."
   ]
  },
  {
   "cell_type": "code",
   "execution_count": null,
   "id": "7253746b",
   "metadata": {},
   "outputs": [],
   "source": []
  }
 ],
 "metadata": {
  "kernelspec": {
   "display_name": "Python 3 (ipykernel)",
   "language": "python",
   "name": "python3"
  },
  "language_info": {
   "codemirror_mode": {
    "name": "ipython",
    "version": 3
   },
   "file_extension": ".py",
   "mimetype": "text/x-python",
   "name": "python",
   "nbconvert_exporter": "python",
   "pygments_lexer": "ipython3",
   "version": "3.10.6"
  },
  "vscode": {
   "interpreter": {
    "hash": "26de051ba29f2982a8de78e945f0abaf191376122a1563185a90213a26c5da77"
   }
  }
 },
 "nbformat": 4,
 "nbformat_minor": 5
}
