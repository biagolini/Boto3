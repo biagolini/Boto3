{
 "cells": [
  {
   "cell_type": "markdown",
   "id": "4cfe9c65",
   "metadata": {},
   "source": [
    "Description: Describe EC2 instances from your account"
   ]
  },
  {
   "cell_type": "code",
   "execution_count": null,
   "id": "06ec26fd",
   "metadata": {},
   "outputs": [],
   "source": [
    "# Import Boto3 library \n",
    "import boto3"
   ]
  },
  {
   "cell_type": "code",
   "execution_count": null,
   "id": "0b963433",
   "metadata": {},
   "outputs": [],
   "source": [
    "# Get instance info\n",
    "ec2 = boto3.client('ec2')\n",
    "response = ec2.describe_instances()"
   ]
  },
  {
   "cell_type": "code",
   "execution_count": null,
   "id": "2c989a7c",
   "metadata": {},
   "outputs": [],
   "source": [
    "# See full instances data\n",
    "print(response['Reservations'])"
   ]
  },
  {
   "cell_type": "code",
   "execution_count": null,
   "id": "6862fbd5",
   "metadata": {
    "scrolled": true
   },
   "outputs": [],
   "source": [
    "# Print instances IDs\n",
    "for x in response['Reservations']:\n",
    "     for y in x['Instances']:\n",
    "        print(y['InstanceId'])"
   ]
  },
  {
   "cell_type": "code",
   "execution_count": null,
   "id": "4808750b",
   "metadata": {},
   "outputs": [],
   "source": [
    "# Print instances IDs + InstanceType + State\n",
    "for x in response['Reservations']:\n",
    "     for y in x['Instances']:\n",
    "        print(\"-----------------------------------------\",\n",
    "              \"\\n|InstanceId:\\t\",y['InstanceId'],\"\\t|\",\n",
    "              \"\\n|InstanceType:\\t\",y['InstanceType'],\"\\t\\t|\",\n",
    "              \"\\n|State:\\t\\t\",y['State']['Name'],\"\\t\\t|\")\n",
    "print(\"-----------------------------------------\")"
   ]
  },
  {
   "cell_type": "markdown",
   "id": "bd2394f3",
   "metadata": {},
   "source": [
    "Reference:\n",
    "Amazon (2022) EC2. Retrieved from:https://boto3.amazonaws.com/v1/documentation/api/latest/reference/services/ec2.html. (Accessed: 2022-12-20)."
   ]
  },
  {
   "cell_type": "code",
   "execution_count": null,
   "id": "7253746b",
   "metadata": {},
   "outputs": [],
   "source": []
  }
 ],
 "metadata": {
  "kernelspec": {
   "display_name": "Python 3",
   "language": "python",
   "name": "python3"
  },
  "language_info": {
   "codemirror_mode": {
    "name": "ipython",
    "version": 3
   },
   "file_extension": ".py",
   "mimetype": "text/x-python",
   "name": "python",
   "nbconvert_exporter": "python",
   "pygments_lexer": "ipython3",
   "version": "3.10.8 (tags/v3.10.8:aaaf517, Oct 11 2022, 16:50:30) [MSC v.1933 64 bit (AMD64)]"
  },
  "vscode": {
   "interpreter": {
    "hash": "26de051ba29f2982a8de78e945f0abaf191376122a1563185a90213a26c5da77"
   }
  }
 },
 "nbformat": 4,
 "nbformat_minor": 5
}
