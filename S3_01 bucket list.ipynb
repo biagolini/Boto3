{
 "cells": [
  {
   "cell_type": "markdown",
   "id": "4cfe9c65",
   "metadata": {},
   "source": [
    "Description: How to list all S3 buckets associated to your account"
   ]
  },
  {
   "cell_type": "code",
   "execution_count": null,
   "id": "06ec26fd",
   "metadata": {},
   "outputs": [],
   "source": [
    "# Import Boto3 library \n",
    "import boto3"
   ]
  },
  {
   "cell_type": "code",
   "execution_count": null,
   "id": "73cd938a",
   "metadata": {},
   "outputs": [],
   "source": [
    "# List s3 Buckets using resource\n",
    "# Create s3 resource\n",
    "s3 = boto3.resource('s3')\n",
    "# Output the bucket names\n",
    "for bucket in s3.buckets.all():\n",
    "    print(bucket.name)"
   ]
  },
  {
   "cell_type": "code",
   "execution_count": null,
   "id": "0b963433",
   "metadata": {},
   "outputs": [],
   "source": [
    "# List s3 Buckets using client\n",
    "# Retrieve the list of existing buckets\n",
    "s3 = boto3.client('s3')\n",
    "response = s3.list_buckets()\n",
    "# Output the bucket names\n",
    "print('Existing buckets:')\n",
    "for bucket in response['Buckets']:\n",
    "    print(f'  {bucket[\"Name\"]}')"
   ]
  },
  {
   "cell_type": "markdown",
   "id": "bd2394f3",
   "metadata": {},
   "source": [
    "Reference:\n",
    "Amazon (2022) Amazon S3 buckets. Retrieved from: https://boto3.amazonaws.com/v1/documentation/api/latest/guide/s3-example-creating-buckets.html. (Accessed: 2022-12-20).\n",
    " "
   ]
  },
  {
   "cell_type": "code",
   "execution_count": null,
   "id": "7253746b",
   "metadata": {},
   "outputs": [],
   "source": []
  }
 ],
 "metadata": {
  "kernelspec": {
   "display_name": "Python 3 (ipykernel)",
   "language": "python",
   "name": "python3"
  },
  "language_info": {
   "codemirror_mode": {
    "name": "ipython",
    "version": 3
   },
   "file_extension": ".py",
   "mimetype": "text/x-python",
   "name": "python",
   "nbconvert_exporter": "python",
   "pygments_lexer": "ipython3",
   "version": "3.10.6"
  }
 },
 "nbformat": 4,
 "nbformat_minor": 5
}
